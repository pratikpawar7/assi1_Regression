{
 "cells": [
  {
   "cell_type": "code",
   "execution_count": null,
   "id": "09475a23-54dd-4f2d-a19b-2cefd5a9f7b0",
   "metadata": {},
   "outputs": [],
   "source": [
    "'''\n",
    "Q1. Explain the difference between simple linear regression and multiple linear regression. Provide an\n",
    "example of each.\n",
    "'''\n",
    "In simple linear regression there only one independent variable used to find the one denpendent variable . \n",
    "\n",
    "example : price of banana is depend upon the no of Bananas .\n",
    "\n",
    "In Multiple linear Regression :\n",
    "    There are two or more variable indepedent variable used to find the one dependent variable.\n",
    "    \n",
    "example : price of the house is depend upon the no of rooms and location.\n",
    "\n"
   ]
  },
  {
   "cell_type": "code",
   "execution_count": null,
   "id": "e8580318-df3f-4c63-a659-8a663955be12",
   "metadata": {},
   "outputs": [],
   "source": [
    "'''\n",
    "\n",
    "Q2. Discuss the assumptions of linear regression. How can you check whether these assumptions hold in\n",
    "a given dataset?\n",
    "'''\n",
    "Linear regression assumptions include linearity, independence, homoscedasticity, normality, and no multicollinearity. \n",
    "To check these:\n",
    "\n",
    "Linearity:            Use scatter plots of dependent vs. independent variables.\n",
    "Independence:         Examine study design and use the Durbin-Watson test.\n",
    "Homoscedasticity:    Plot residuals vs. fitted values and conduct the Breusch-Pagan test.\n",
    "Normality:            Use Q-Q plots and the Shapiro-Wilk test for residuals.\n",
    "No multicollinearity: Check Variance Inflation Factor (VIF) values, with VIFs above 10 indicating issues.\n"
   ]
  },
  {
   "cell_type": "code",
   "execution_count": null,
   "id": "9ffcb871-8945-4968-849d-7b8eda4ce5d0",
   "metadata": {},
   "outputs": [],
   "source": [
    "'''\n",
    "Q3. How do you interpret the slope and intercept in a linear regression model? Provide an example using\n",
    "a real-world scenario.\n",
    "'''\n",
    "\n",
    "n a linear regression model, the slope represents the change in the dependent variable for \n",
    "a one-unit increase in the independent variable. \n",
    "The intercept is the value of the dependent variable when the independent variable is zero.\n"
   ]
  },
  {
   "cell_type": "code",
   "execution_count": null,
   "id": "2d9345bf-991a-4622-bd86-edd55d6a52e1",
   "metadata": {},
   "outputs": [],
   "source": [
    "'''\n",
    "Q4. Explain the concept of gradient descent. How is it used in machine learning?\n",
    "'''\n",
    "\n",
    "Gradient descent is an optimization algorithm used to minimize a function by iteratively\n",
    "moving towards the steepest descent, as defined by the negative of the gradient. \n",
    "In machine learning, it is primarily used to minimize the loss function of a model."
   ]
  },
  {
   "cell_type": "code",
   "execution_count": null,
   "id": "18945403-e9a2-475e-810b-1e38b9652682",
   "metadata": {},
   "outputs": [],
   "source": [
    "'''\n",
    "Q5. Describe the multiple linear regression model. How does it differ from simple linear regression?\n",
    "'''\n",
    "\n",
    "In Multiple linear regression model there are two or more independent variables  are used to \n",
    "predict the dependent variable . \n",
    "but in the simple linear regression there is only one independent variable is used to predict dependent variable."
   ]
  },
  {
   "cell_type": "code",
   "execution_count": null,
   "id": "e45150c1-368c-4fef-aad6-0bcdbc5898d3",
   "metadata": {},
   "outputs": [],
   "source": [
    "'''\n",
    "Q6. Explain the concept of multicollinearity in multiple linear regression. How can you detect and\n",
    "address this issue?\n",
    "'''\n",
    "Multicollinearity in multiple linear regression refers to the situation where two or\n",
    "more independent variables are highly correlated, making it difficult to isolate the \n",
    "individual effect of each predictor on the dependent variable. \n",
    "This can inflate the variance of the coefficient estimates and make the model unstable."
   ]
  },
  {
   "cell_type": "code",
   "execution_count": null,
   "id": "2b653b5c-8dd0-4bd9-bc61-f284e7029e7e",
   "metadata": {},
   "outputs": [],
   "source": [
    "'''\n",
    "Q7. Describe the polynomial regression model. How is it different from linear regression?\n",
    "'''\n",
    "In the polynomial regression there is No Linear relationship in the dataset. thers is the curve in\n",
    "the relationship of the dataset. \n",
    "in the Linear Regression there is linear relationship between the dataset.\n"
   ]
  },
  {
   "cell_type": "code",
   "execution_count": null,
   "id": "170ebc07-27f1-4629-b3eb-ec057a86c578",
   "metadata": {},
   "outputs": [],
   "source": [
    "'''\n",
    "Q8. What are the advantages and disadvantages of polynomial regression compared to linear\n",
    "regression? In what situations would you prefer to use polynomial regression?\n",
    "'''\n",
    "\n",
    "Advantages of Polynomial Regression:\n",
    "\n",
    "Flexibility: Captures non-linear relationships between variables.\n",
    "Better Fit: Provides a better fit for datasets with non-linear trends.\n",
    "\n",
    "\n",
    "Disadvantages:\n",
    "\n",
    "Overfitting: Higher-degree polynomials can overfit the data.\n",
    "Complexity: More complex to interpret and may require more computational resources.\n",
    "\n",
    "When to Use:\n",
    "Prefer polynomial regression when the relationship between the independent and dependent\n",
    "variables is non-linear and cannot be adequately captured by linear regression."
   ]
  },
  {
   "cell_type": "code",
   "execution_count": null,
   "id": "ed27bca9-7be0-40ec-b66e-60c0dff9b57a",
   "metadata": {},
   "outputs": [],
   "source": []
  }
 ],
 "metadata": {
  "kernelspec": {
   "display_name": "Python 3 (ipykernel)",
   "language": "python",
   "name": "python3"
  },
  "language_info": {
   "codemirror_mode": {
    "name": "ipython",
    "version": 3
   },
   "file_extension": ".py",
   "mimetype": "text/x-python",
   "name": "python",
   "nbconvert_exporter": "python",
   "pygments_lexer": "ipython3",
   "version": "3.10.8"
  }
 },
 "nbformat": 4,
 "nbformat_minor": 5
}
